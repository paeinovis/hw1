{
 "cells": [
  {
   "cell_type": "code",
   "execution_count": 4,
   "outputs": [],
   "source": [
    "import numpy as np\n",
    "import math\n",
    "import matplotlib.pyplot as plt"
   ],
   "metadata": {
    "collapsed": false,
    "pycharm": {
     "name": "#%%\n"
    }
   }
  },
  {
   "cell_type": "markdown",
   "metadata": {},
   "source": [
    "Homework 1\n",
    "==========\n",
    "Run-and-tumble in a 1D concentration profile\n",
    "--------------------------------------------"
   ]
  },
  {
   "cell_type": "code",
   "execution_count": 2,
   "outputs": [],
   "source": [
    "# Random Walk Code Given\n",
    "\n",
    "class RandomWalk1D():\n",
    "    \"\"\"\n",
    "    simulate random walk of a particle in 1D.\n",
    "    \"\"\"\n",
    "\n",
    "    def __init__(self, dt=1., speed=1.):\n",
    "        \"\"\"\n",
    "        initialize the simulation by setting the initial position of the particle.\n",
    "        inputs:\n",
    "        dt: float, time step size.\n",
    "        speed: float, each time step the particle moves a distance dx=dt*speed.\n",
    "        \"\"\"\n",
    "        self.dt = dt\n",
    "        self.dx = dt * speed\n",
    "        self.t = 0.    # current time since the beginning of the simulation\n",
    "        self.x = 0.    # current position of the particle\n",
    "\n",
    "    def run(self, T):\n",
    "        \"\"\"\n",
    "        run the simulation until time T (total time since the very beginning). By defining the argument `T` this way,\n",
    "        we can pick up the simulation where we left last time and continue to run it further.\n",
    "        inputs:\n",
    "        T: int, total amount of time since the beginning of simulation.\n",
    "        \"\"\"\n",
    "        n = int((T - self.t) / self.dt)    # number of time steps needed to simulate\n",
    "        for t in range(n):\n",
    "            direction = np.random.rand()    # draw a random number uniformly from between 0 and 1\n",
    "            if direction < 0.5:    # move left\n",
    "                self.x = self.x - self.dx\n",
    "            else:    # move right\n",
    "                self.x = self.x + self.dx\n",
    "            self.t = self.t + self.dt    # keep track of time since the beginning of the simulation"
   ],
   "metadata": {
    "collapsed": false,
    "pycharm": {
     "name": "#%%\n"
    }
   }
  },
  {
   "cell_type": "markdown",
   "metadata": {},
   "source": [
    "Consider the 1D run-and-tumble model as in the notebook [run-and-tumble.ipynb](./run-and-tumble.ipynb). What happens if the concentration profile is not simply a linear function? For example, let us place a food source at $x=500$, so that the concentration is peaked there and decreases with distance."
   ]
  },
  {
   "cell_type": "markdown",
   "metadata": {},
   "source": [
    "1. Choose a reasonable function to describe the concentration profile. Define it as a Python function that can be passed to the `run` method of the `RunTumble1D` class. Make sure that the function has appreciable gradient at $x=0$."
   ]
  },
  {
   "cell_type": "code",
   "execution_count": 30,
   "metadata": {},
   "outputs": [
    {
     "data": {
      "text/plain": "<Figure size 432x288 with 1 Axes>",
      "image/png": "[encoded data removed]"
     },
     "metadata": {
      "needs_background": "light"
     },
     "output_type": "display_data"
    }
   ],
   "source": [
    "def concentration(x_peak = 500, diff_const = 50, t_const = 300):\n",
    "    x = np.linspace(0, x_peak * 2, 500)\n",
    "    peak = (1 / np.sqrt((4 * np.pi * diff_const))) * np.exp((-((x_peak - x) ** 2)) / (4 * diff_const * t_const))\n",
    "    plt.plot(x, peak)\n",
    "    plt.show()\n",
    "concentration()"
   ]
  },
  {
   "cell_type": "markdown",
   "source": [
    "My reasoning for the concentration function here is in that in the same way bacteria moving (mostly) randomly diffuse,\n",
    "some substance with a diffusion constant and over a given time would have the same pattern as the Gaussian, since at any\n",
    "time, particles (of whatever the food source is) will on average be closer to the center/peak of concentration.\n",
    "It's like if you put a drop of dye in water, it'll spread out radially"
   ],
   "metadata": {
    "collapsed": false,
    "pycharm": {
     "name": "#%% md\n"
    }
   }
  },
  {
   "cell_type": "markdown",
   "metadata": {},
   "source": [
    "2. Start simulations of a population of bacteria from the origin and run for a sufficiently long time. Choose a set of times points, calculate the mean and variance of the distribution of their positions at these time points. Plot the mean and variance as functions of time, and describe the trends that you see."
   ]
  },
  {
   "cell_type": "code",
   "execution_count": 3,
   "metadata": {},
   "outputs": [],
   "source": [
    "N = 10000    # number of simulations to run\n",
    "T = 1000    # amount of time to run\n",
    "results = []    # collect results from every simulation\n",
    "for n in range(N):\n",
    "    rw1 = RandomWalk1D()\n",
    "    rw1.run(T)\n",
    "    results.append(rw1.x)\n",
    "nbins = 20    # number of bins to use\n",
    "plt.figure()\n",
    "plt.hist(results, bins=nbins)\n",
    "plt.xlabel('x')\n",
    "plt.ylabel('count')\n",
    "plt.show()\n"
   ]
  },
  {
   "cell_type": "markdown",
   "metadata": {},
   "source": [
    "3. Did the distribution reach a steady state? For that to happen, the mean and variance should both approach constant values. (What value do you expect the mean to approach?) If not, it means you have not run the simulations for long enough. In that case, repeat steps 2 for a longer time."
   ]
  },
  {
   "cell_type": "code",
   "execution_count": 3,
   "metadata": {},
   "outputs": [],
   "source": []
  },
  {
   "cell_type": "markdown",
   "metadata": {},
   "source": [
    "4. Plot the distribution of their final positions. Describe the shape of the distribution. Does it look like a Gaussian distribution? (It does not have to, depending on the concentration profile you chose.) Try plotting a Gaussian distribution with the same mean and variance as your distribution, and see if it fits."
   ]
  },
  {
   "cell_type": "code",
   "execution_count": 3,
   "metadata": {},
   "outputs": [],
   "source": []
  },
  {
   "cell_type": "markdown",
   "metadata": {},
   "source": [
    "5. (optional) How does your result depend on the parameter `alpha`? Change its value and repeat the above steps to see how your result will be affected."
   ]
  },
  {
   "cell_type": "code",
   "execution_count": 3,
   "metadata": {},
   "outputs": [],
   "source": []
  }
 ],
 "metadata": {
  "kernelspec": {
   "name": "pycharm-7a1ee507",
   "language": "python",
   "display_name": "PyCharm (hw1)"
  },
  "language_info": {
   "codemirror_mode": {
    "name": "ipython",
    "version": 3
   },
   "file_extension": ".py",
   "mimetype": "text/x-python",
   "name": "python",
   "nbconvert_exporter": "python",
   "pygments_lexer": "ipython3",
   "version": "3.8.5"
  }
 },
 "nbformat": 4,
 "nbformat_minor": 4
}