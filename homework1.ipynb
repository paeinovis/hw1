{
 "cells": [
  {
   "cell_type": "code",
   "execution_count": 15,
   "outputs": [],
   "source": [
    "import numpy as np\n",
    "import matplotlib.pyplot as plt\n",
    "import math\n",
    "import sympy as sym"
   ],
   "metadata": {
    "collapsed": false,
    "pycharm": {
     "name": "#%%\n"
    }
   }
  },
  {
   "cell_type": "markdown",
   "metadata": {},
   "source": [
    "Homework 1\n",
    "==========\n",
    "Run-and-tumble in a 1D concentration profile\n",
    "--------------------------------------------"
   ]
  },
  {
   "cell_type": "markdown",
   "metadata": {},
   "source": [
    "Consider the 1D run-and-tumble model as in the notebook [run-and-tumble.ipynb](./run-and-tumble.ipynb). What happens if the concentration profile is not simply a linear function? For example, let us place a food source at $x=500$, so that the concentration is peaked there and decreases with distance."
   ]
  },
  {
   "cell_type": "markdown",
   "metadata": {},
   "source": [
    "1. Choose a reasonable function to describe the concentration profile. Define it as a Python function that can be passed to the `run` method of the `RunTumble1D` class. Make sure that the function has appreciable gradient at $x=0$."
   ]
  },
  {
   "cell_type": "code",
   "execution_count": 16,
   "metadata": {},
   "outputs": [],
   "source": [
    "def concentration(x, x_peak = 500, diff_const = 50, t_const = 300):\n",
    "    return (1 / math.sqrt((4 * math.pi * diff_const))) * math.exp((-((x_peak - x) ** 2)) / (4 * diff_const * t_const))"
   ]
  },
  {
   "cell_type": "markdown",
   "source": [
    "My reasoning for the concentration function here is in that in the same way bacteria moving (mostly) randomly diffuse,\n",
    "some substance with a diffusion constant and over a given time would have the same pattern as the Gaussian, since at any\n",
    "time, particles (of whatever the food source is) will on average be closer to the center/peak of concentration.\n",
    "It's like if you put a drop of dye in water, it'll spread out radially"
   ],
   "metadata": {
    "collapsed": false,
    "pycharm": {
     "name": "#%% md\n"
    }
   }
  },
  {
   "cell_type": "markdown",
   "metadata": {},
   "source": [
    "2. Start simulations of a population of bacteria from the origin and run for a sufficiently long time. Choose a set of times points, calculate the mean and variance of the distribution of their positions at these time points. Plot the mean and variance as functions of time, and describe the trends that you see."
   ]
  },
  {
   "cell_type": "code",
   "execution_count": 17,
   "metadata": {},
   "outputs": [],
   "source": [
    "# Assumption before I code the bacteria behavior:\n",
    "# The bacteria can check if the concentration has increased or decreased /after/ the last movement, and their next run\n",
    "# length will be based on this result."
   ]
  },
  {
   "cell_type": "code",
   "execution_count": 18,
   "outputs": [],
   "source": [
    "# Run n' Tumble\n",
    "class LessRandomWalk1D():\n",
    "    \"\"\"\n",
    "    simulate run and tumble behavior of bacteria in 1D.\n",
    "    \"\"\"\n",
    "\n",
    "    def __init__(self, dt=1., speed=50):\n",
    "        # Changing the speed to 50 to be close-ish the 30 microns/second speed seen in bacteria but also so the model\n",
    "        # will show clearer results\n",
    "        \"\"\"\n",
    "        initialize the simulation by setting the initial position of the particle.\n",
    "        inputs:\n",
    "        dt: float, time step size.\n",
    "        speed: float, each time step the particle moves a distance dx=dt*speed.\n",
    "        \"\"\"\n",
    "        self.speed = speed\n",
    "        self.dt = dt\n",
    "        self.dx = dt * self.speed\n",
    "        self.t = 0.    # current time since the beginning of the simulation\n",
    "        self.x = 0.    # current position of the particle\n",
    "\n",
    "    def run(self, T):\n",
    "        \"\"\"\n",
    "        run the simulation until time T (total time since the very beginning). By defining the argument `T` this way,\n",
    "        we can pick up the simulation where we left last time and continue to run it further.\n",
    "        inputs:\n",
    "        T: int, total amount of time since the beginning of simulation.\n",
    "        \"\"\"\n",
    "\n",
    "        self.dx = -30\n",
    "\n",
    "        n = int((T - self.t) / self.dt)     # number of time steps needed to simulate\n",
    "        # This is still probably a fine n, though it won't be exactly accurate for the model\n",
    "        for t in range(n):\n",
    "            d_conc = concentration(x = self.x) - concentration(x = self.x - self.dx)\n",
    "            # calculates if concentration has gone up or down\n",
    "            if d_conc <= 0:\n",
    "                self.dt = .1                     # time for a tumble, when not going towards increasing concentration\n",
    "            if d_conc > 0:\n",
    "                self.dt = 1                      # time for a walk, when going towards increasing concentration\n",
    "            self.dx = self.dt * self.speed\n",
    "\n",
    "            direction = np.random.rand()    # draw a random number uniformly from between 0 and 1\n",
    "            # gets next move\n",
    "            if direction < 0.5 and self.x > 0:\n",
    "                # move left but makes sure it stays at x > 0 bc otherwise it won't Sense the concentration\n",
    "                self.dx = -self.dx\n",
    "            else:\n",
    "                # move right\n",
    "                self.dx = self.dx\n",
    "            self.x += self.dx\n",
    "\n",
    "            self.t += self.dt    # keep track of time since the beginning of the simulation"
   ],
   "metadata": {
    "collapsed": false,
    "pycharm": {
     "name": "#%%\n"
    }
   }
  },
  {
   "cell_type": "code",
   "execution_count": 19,
   "outputs": [
    {
     "data": {
      "text/plain": "<Figure size 432x288 with 1 Axes>",
      "image/png": "[encoded data removed]"
     },
     "metadata": {
      "needs_background": "light"
     },
     "output_type": "display_data"
    }
   ],
   "source": [
    "N = 10000       # number of simulations to run\n",
    "T = 1000        # amount of time to run\n",
    "results = []    # collect results from every simulation\n",
    "for n in range(N):\n",
    "    rw1 = LessRandomWalk1D()\n",
    "    rw1.run(T = T)\n",
    "    results.append(rw1.x)\n",
    "\n",
    "nbins = 30    # number of bins to use\n",
    "plt.figure()\n",
    "plt.hist(results, bins=nbins)\n",
    "plt.xlabel('x')\n",
    "plt.ylabel('count')\n",
    "plt.show()"
   ],
   "metadata": {
    "collapsed": false,
    "pycharm": {
     "name": "#%%\n"
    }
   }
  },
  {
   "cell_type": "markdown",
   "metadata": {},
   "source": [
    "3. Did the distribution reach a steady state? For that to happen, the mean and variance should both approach constant values. (What value do you expect the mean to approach?) If not, it means you have not run the simulations for long enough. In that case, repeat steps 2 for a longer time."
   ]
  },
  {
   "cell_type": "code",
   "execution_count": null,
   "metadata": {
    "pycharm": {
     "is_executing": true
    }
   },
   "outputs": [],
   "source": [
    "rw1_list = [LessRandomWalk1D() for n in range(N)]    # create and save N instances of the class\n",
    "T_list = [0, 100, 200, 300, 400, 500, 600, 700, 800, 900, 1000]    # time points at which we check the distribution\n",
    "xmean_list = [0]    # list to collect the mean of the distribution at each time point above; first value is 0 at T=0\n",
    "xvar_list = [0]    # list to collect the variance of the distribution at each time point above; first value is 0 at T=0\n",
    "\n",
    "for T in T_list[1:]:    # skip the first time point T=0\n",
    "    results = []        # collect results from every simulation\n",
    "    for rw1 in rw1_list:\n",
    "        rw1.run(T)    # run each simulation until time T\n",
    "        results.append(rw1.x)\n",
    "    xmean = np.mean(results)    # calculate the mean at each time point\n",
    "    xvar = np.var(results)    # calculate the variance at each time point\n",
    "    xmean_list.append(xmean)\n",
    "    xvar_list.append(xvar)"
   ]
  },
  {
   "cell_type": "code",
   "execution_count": null,
   "outputs": [],
   "source": [
    "fig, ax = plt.subplots(1,2, figsize=(12,4))    # make 2 subplots\n",
    "ax[0].plot(T_list, xmean_list)    # ax[0] is the first subplot\n",
    "ax[0].set_ylim(-10, 10)    # note the convention: ax.set_ylim() vs plt.ylim(); similarly below\n",
    "ax[0].set_xlabel('time')\n",
    "ax[0].set_ylabel('mean')\n",
    "ax[1].plot(T_list, xvar_list)    # ax[1] is the second subplot\n",
    "ax[1].set_xlabel('time')\n",
    "ax[1].set_ylabel('variance')\n",
    "plt.show()\n"
   ],
   "metadata": {
    "collapsed": false,
    "pycharm": {
     "name": "#%%\n",
     "is_executing": true
    }
   }
  },
  {
   "cell_type": "markdown",
   "metadata": {},
   "source": [
    "4. Plot the distribution of their final positions. Describe the shape of the distribution. Does it look like a Gaussian distribution? (It does not have to, depending on the concentration profile you chose.) Try plotting a Gaussian distribution with the same mean and variance as your distribution, and see if it fits."
   ]
  },
  {
   "cell_type": "code",
   "execution_count": null,
   "metadata": {
    "pycharm": {
     "is_executing": true
    }
   },
   "outputs": [],
   "source": []
  },
  {
   "cell_type": "markdown",
   "metadata": {},
   "source": [
    "5. (optional) How does your result depend on the parameter `alpha`? Change its value and repeat the above steps to see how your result will be affected."
   ]
  },
  {
   "cell_type": "code",
   "execution_count": null,
   "metadata": {
    "pycharm": {
     "is_executing": true
    }
   },
   "outputs": [],
   "source": []
  }
 ],
 "metadata": {
  "kernelspec": {
   "name": "pycharm-7a1ee507",
   "language": "python",
   "display_name": "PyCharm (hw1)"
  },
  "language_info": {
   "codemirror_mode": {
    "name": "ipython",
    "version": 3
   },
   "file_extension": ".py",
   "mimetype": "text/x-python",
   "name": "python",
   "nbconvert_exporter": "python",
   "pygments_lexer": "ipython3",
   "version": "3.8.5"
  }
 },
 "nbformat": 4,
 "nbformat_minor": 4
}